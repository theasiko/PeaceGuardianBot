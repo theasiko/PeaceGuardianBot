{
  "nbformat": 4,
  "nbformat_minor": 0,
  "metadata": {
    "colab": {
      "provenance": []
    },
    "kernelspec": {
      "name": "python3",
      "display_name": "Python 3"
    },
    "language_info": {
      "name": "python"
    }
  },
  "cells": [
    {
      "cell_type": "code",
      "execution_count": 1,
      "metadata": {
        "id": "wXe_745TzUdk"
      },
      "outputs": [],
      "source": [
        "import pandas as pd\n",
        "from sklearn.model_selection import train_test_split\n",
        "from sklearn.preprocessing import LabelEncoder\n",
        "from sklearn.ensemble import RandomForestClassifier\n",
        "from sklearn.metrics import accuracy_score\n",
        "import joblib"
      ]
    },
    {
      "cell_type": "code",
      "source": [
        "df = pd.read_csv(\"violence_database_with_bias_v9_large_multi_entries.csv\")\n",
        "print(df.head())\n"
      ],
      "metadata": {
        "colab": {
          "base_uri": "https://localhost:8080/"
        },
        "id": "-Jwf2I-nzuKd",
        "outputId": "4f5d6cab-0e4f-48f5-d1a1-212f5fe25a7b"
      },
      "execution_count": 9,
      "outputs": [
        {
          "output_type": "stream",
          "name": "stdout",
          "text": [
            "   ID Country  Year                      Type of Measures Form of Violence\n",
            "0   1   Aruba  2000  Violence against women > Regulations  Emotional abuse\n",
            "1   2   Aruba  2000                   Counseling services    Digital abuse\n",
            "2   3   Aruba  2000    Justice > Protocols and guidelines     Forced labor\n",
            "3   4   Aruba  2000  Violence against women > Legislation    Digital abuse\n",
            "4   5   Aruba  2000                    Justice > Training  Sexual violence\n"
          ]
        }
      ]
    },
    {
      "cell_type": "code",
      "source": [
        "le_country = LabelEncoder()\n",
        "le_type_of_measures = LabelEncoder()\n",
        "le_form_of_violence = LabelEncoder()\n",
        "\n",
        "df['Country'] = le_country.fit_transform(df['Country'])\n",
        "df['Type of Measures'] = le_type_of_measures.fit_transform(df['Type of Measures'])\n",
        "df['Form of Violence'] = le_form_of_violence.fit_transform(df['Form of Violence'])\n",
        "print(f'Encoded Country classes: {le_country.classes_}')\n",
        "print(f'Encoded Form of Violence classes: {le_form_of_violence.classes_}')\n",
        "\n",
        "\n",
        "most_popular_per_country = df.groupby('Country')['Form of Violence'].agg(lambda x: x.mode().iat[0]).reset_index()\n",
        "\n",
        "\n",
        "train_data, test_data = train_test_split(most_popular_per_country, test_size=0.2, random_state=42)\n",
        "\n",
        "\n",
        "X_train = train_data[['Country']]\n",
        "X_test = test_data[['Country']]\n",
        "y_train = train_data['Form of Violence']\n",
        "y_test = test_data['Form of Violence']\n",
        "\n",
        "\n",
        "model = RandomForestClassifier(n_estimators=100, random_state=42)\n",
        "model.fit(X_train, y_train)\n",
        "\n",
        "\n",
        "model_filename = 'violence_prediction_model.joblib'\n",
        "saved_data = {\n",
        "    'model': model,\n",
        "    'le_country': le_country,\n",
        "    'le_form_of_violence': le_form_of_violence,\n",
        "    'le_type_of_measures': le_type_of_measures\n",
        "}\n",
        "joblib.dump(saved_data, model_filename)\n",
        "\n",
        "\n",
        "predictions = model.predict(X_test)\n",
        "\n",
        "accuracy = accuracy_score(y_test, predictions)\n",
        "\n",
        "print(f\"Trained model and Label Encoders saved to {model_filename}\")"
      ],
      "metadata": {
        "colab": {
          "base_uri": "https://localhost:8080/"
        },
        "id": "Lxgg8AcCz9w3",
        "outputId": "dd606e6a-ce51-454f-a6b6-1c2dc3191b01"
      },
      "execution_count": 29,
      "outputs": [
        {
          "output_type": "stream",
          "name": "stdout",
          "text": [
            "Encoded Country classes: [  0   1   2   3   4   5   6   7   8   9  10  11  12  13  14  15  16  17\n",
            "  18  19  20  21  22  23  24  25  26  27  28  29  30  31  32  33  34  35\n",
            "  36  37  38  39  40  41  42  43  44  45  46  47  48  49  50  51  52  53\n",
            "  54  55  56  57  58  59  60  61  62  63  64  65  66  67  68  69  70  71\n",
            "  72  73  74  75  76  77  78  79  80  81  82  83  84  85  86  87  88  89\n",
            "  90  91  92  93  94  95  96  97  98  99 100 101 102 103 104 105 106 107\n",
            " 108 109 110 111 112 113 114 115 116 117 118 119 120 121 122 123 124 125\n",
            " 126 127 128 129 130 131 132 133 134 135 136 137 138 139 140 141 142 143\n",
            " 144 145 146 147 148 149 150 151 152 153 154 155 156 157 158 159 160 161\n",
            " 162 163 164 165 166 167 168 169 170 171 172 173 174 175 176 177 178 179\n",
            " 180 181 182 183 184 185 186 187 188 189 190 191 192 193 194 195 196 197\n",
            " 198 199 200 201 202 203 204 205 206 207 208 209 210 211 212 213 214 215\n",
            " 216 217 218 219 220 221 222 223 224 225 226 227 228 229 230 231 232 233\n",
            " 234 235 236 237 238 239 240 241 242 243 244 245 246 247 248]\n",
            "Encoded Form of Violence classes: [0 1 2 3 4 5 6 7 8 9]\n",
            "Trained model and Label Encoders saved to violence_prediction_model.joblib\n"
          ]
        }
      ]
    },
    {
      "cell_type": "code",
      "source": [
        "le_country = LabelEncoder()\n",
        "le_form_of_violence = LabelEncoder()\n",
        "\n",
        "df['Country'] = le_country.fit_transform(df['Country'])\n",
        "df['Form of Violence'] = le_form_of_violence.fit_transform(df['Form of Violence'])\n",
        "\n",
        "model_filename = 'violence_prediction_model.joblib'\n",
        "loaded_data = joblib.load(model_filename)\n",
        "\n",
        "model = loaded_data['model']\n",
        "le_country = loaded_data['le_country']\n",
        "le_form_of_violence = loaded_data['le_form_of_violence']\n",
        "\n",
        "df['Form of Violence'] = le_form_of_violence.inverse_transform(df['Form of Violence'])\n",
        "df['Predicted Form of Violence'] = model.predict(df[['Country']])\n",
        "\n",
        "\n",
        "df_brazil = df[(df['Country'] == le_country.transform(['Brazil'])[0]) & (df['Year'] == 2022)]\n",
        "df_brazil['Predicted Form of Violence'] = le_form_of_violence.inverse_transform(df_brazil['Predicted Form of Violence'])\n",
        "\n",
        "violence_in_brazil_by_year = df_brazil.groupby(['Year', 'Predicted Form of Violence']).size().reset_index(name='Count')\n",
        "\n",
        "print('Form of violence in Brazil')\n",
        "print(violence_in_brazil_by_year)\n"
      ],
      "metadata": {
        "colab": {
          "base_uri": "https://localhost:8080/"
        },
        "id": "MMbgD5pk0Txr",
        "outputId": "411eb6ec-75dc-4b46-f566-9d4f45bbf235"
      },
      "execution_count": 19,
      "outputs": [
        {
          "output_type": "stream",
          "name": "stdout",
          "text": [
            "Form of violence in Brazil\n",
            "   Year Predicted Form of Violence  Count\n",
            "0  2022                   Femicide     20\n"
          ]
        },
        {
          "output_type": "stream",
          "name": "stderr",
          "text": [
            "<ipython-input-19-0fc06cfd212b>:19: SettingWithCopyWarning: \n",
            "A value is trying to be set on a copy of a slice from a DataFrame.\n",
            "Try using .loc[row_indexer,col_indexer] = value instead\n",
            "\n",
            "See the caveats in the documentation: https://pandas.pydata.org/pandas-docs/stable/user_guide/indexing.html#returning-a-view-versus-a-copy\n",
            "  df_brazil['Predicted Form of Violence'] = le_form_of_violence.inverse_transform(df_brazil['Predicted Form of Violence'])\n"
          ]
        }
      ]
    }
  ]
}